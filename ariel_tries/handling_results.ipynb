{
 "cells": [
  {
   "cell_type": "code",
   "execution_count": 3,
   "metadata": {},
   "outputs": [],
   "source": [
    "import numpy as np\n",
    "import os\n",
    "import scipy.io as sio\n",
    "\n",
    "import h5py\n",
    "from tkinter.filedialog import askdirectory\n"
   ]
  },
  {
   "cell_type": "code",
   "execution_count": 20,
   "metadata": {},
   "outputs": [
    {
     "name": "stdout",
     "output_type": "stream",
     "text": [
      "Folder selected is: /GitProjects/MIPVerify.jl/results/adv_attacks/2024-12-01_22-24-57\n"
     ]
    }
   ],
   "source": [
    "folder_path = askdirectory(initialdir=\"../results/adv_attacks\")\n",
    "print(f\"Folder selected is: {folder_path}\")\n",
    "file_names = [\"results.h5\", \"d_summary.txt\"]\n",
    "\n"
   ]
  },
  {
   "cell_type": "code",
   "execution_count": 21,
   "metadata": {},
   "outputs": [
    {
     "name": "stdout",
     "output_type": "stream",
     "text": [
      "Time it took to verify: 1150.551110982895\n"
     ]
    }
   ],
   "source": [
    "with h5py.File(os.path.join(folder_path, file_names[0]), \"r\") as file:\n",
    "    time = file[\"time\"]\n",
    "    print(f\"Time it took to verify: {time[()]}\")"
   ]
  },
  {
   "cell_type": "code",
   "execution_count": null,
   "metadata": {},
   "outputs": [],
   "source": [
    "# Load the HDF5 file\n",
    "with h5py.File(os.path.join(folder_path, file_names[0]), \"r\") as file:\n",
    "    diff = file[\"diff\"][:]\n",
    "    perturbed_input = file[\"perturbed_input\"][:]\n",
    "    objective_value = file[\"objective_value\"][()]\n",
    "    solve_time = file[\"solve_time\"][()]\n",
    "    path_to_network = file[\"path_to_network\"][()]  # Decode if stored as bytes\n",
    "\n",
    "print(\"Objective Value:\", objective_value)\n",
    "print(\"Solve Time:\", solve_time)\n",
    "print(\"Model Path:\", path_to_network)\n",
    "\n",
    "# Visualize the perturbed input\n",
    "import matplotlib.pyplot as plt\n",
    "plt.imshow(perturbed_input[0, :, :, 0], cmap=\"gray\")\n",
    "plt.title(\"Perturbed Input\")\n",
    "plt.colorbar()\n",
    "plt.show()"
   ]
  }
 ],
 "metadata": {
  "kernelspec": {
   "display_name": ".venv",
   "language": "python",
   "name": "python3"
  },
  "language_info": {
   "codemirror_mode": {
    "name": "ipython",
    "version": 3
   },
   "file_extension": ".py",
   "mimetype": "text/x-python",
   "name": "python",
   "nbconvert_exporter": "python",
   "pygments_lexer": "ipython3",
   "version": "3.8.10"
  }
 },
 "nbformat": 4,
 "nbformat_minor": 2
}
