{
 "cells": [
  {
   "cell_type": "code",
   "execution_count": null,
   "metadata": {},
   "outputs": [],
   "source": [
    "import h5py\n",
    "\n",
    "# Load the HDF5 file\n",
    "with h5py.File(\"path/to/results.h5\", \"r\") as file:\n",
    "    diff = file[\"diff\"][:]\n",
    "    perturbed_input = file[\"perturbed_input\"][:]\n",
    "    objective_value = file[\"objective_value\"][()]\n",
    "    solve_time = file[\"solve_time\"][()]\n",
    "    path_to_network = file[\"path_to_network\"][()].decode()  # Decode if stored as bytes\n",
    "\n",
    "print(\"Objective Value:\", objective_value)\n",
    "print(\"Solve Time:\", solve_time)\n",
    "print(\"Model Path:\", path_to_network)\n",
    "\n",
    "# Visualize the perturbed input\n",
    "import matplotlib.pyplot as plt\n",
    "plt.imshow(perturbed_input[0, :, :, 0], cmap=\"gray\")\n",
    "plt.title(\"Perturbed Input\")\n",
    "plt.colorbar()\n",
    "plt.show()\n"
   ]
  }
 ],
 "metadata": {
  "language_info": {
   "name": "python"
  }
 },
 "nbformat": 4,
 "nbformat_minor": 2
}
